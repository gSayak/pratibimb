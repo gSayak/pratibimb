{
 "cells": [
  {
   "cell_type": "code",
   "execution_count": 3,
   "metadata": {},
   "outputs": [],
   "source": [
    "from peft import PeftModel, PeftConfig\n",
    "from transformers import AutoModelForCausalLM, AutoTokenizer\n"
   ]
  },
  {
   "cell_type": "code",
   "execution_count": 8,
   "metadata": {},
   "outputs": [
    {
     "name": "stderr",
     "output_type": "stream",
     "text": [
      "Loading checkpoint shards: 100%|██████████| 2/2 [00:04<00:00,  2.36s/it]\n"
     ]
    }
   ],
   "source": [
    "config = PeftConfig.from_pretrained(\"gsayak/gemma2-2b-reflection\")\n",
    "base_model = AutoModelForCausalLM.from_pretrained(\"google/gemma-2-2b-it\").to(\"cuda\")\n"
   ]
  },
  {
   "cell_type": "code",
   "execution_count": 9,
   "metadata": {},
   "outputs": [],
   "source": [
    "base_tokenizer = AutoTokenizer.from_pretrained(\"google/gemma-2-2b-it\")"
   ]
  },
  {
   "cell_type": "code",
   "execution_count": 10,
   "metadata": {},
   "outputs": [],
   "source": [
    "question = [\n",
    "    {\n",
    "    \"role\" : \"user\",\n",
    "    \"content\" : \"Calculate the derivative of the function f(x) = 3x^2 sin(x) using the product rule and chain rule\"\n",
    "    }]"
   ]
  },
  {
   "cell_type": "markdown",
   "metadata": {},
   "source": [
    "# Checking output of the base model"
   ]
  },
  {
   "cell_type": "code",
   "execution_count": 11,
   "metadata": {},
   "outputs": [
    {
     "name": "stdout",
     "output_type": "stream",
     "text": [
      "tensor([[     2,    106,   1645,    108,  51654,    573,  33635,    576,    573,\n",
      "           1411,    517, 235278, 235297, 235275,    589, 235248, 235304, 235297,\n",
      "         235393, 235284,   3270, 235278, 235297, 235275,   2177,    573,   3225,\n",
      "           6933,    578,   9488,   6933,    107,    108,    106,   2516,    108]],\n",
      "       device='cuda:0')\n"
     ]
    }
   ],
   "source": [
    "prompt = base_tokenizer.apply_chat_template(question, tokenize=True, add_generation_prompt=True, return_tensors=\"pt\").to(\"cuda\")\n",
    "print(prompt)"
   ]
  },
  {
   "cell_type": "code",
   "execution_count": 12,
   "metadata": {},
   "outputs": [
    {
     "name": "stdout",
     "output_type": "stream",
     "text": [
      "<bos><start_of_turn>user\n",
      "Calculate the derivative of the function f(x) = 3x^2 sin(x) using the product rule and chain rule<end_of_turn>\n",
      "<start_of_turn>model\n",
      "Here's how to calculate the derivative of f(x) = 3x² sin(x) using the product rule and chain rule:\n",
      "\n",
      "**1. Identify the factors:**\n",
      "\n",
      "*  f(x) = 3x² sin(x)  \n",
      "   *  u(x) = 3x²\n",
      "   *  v(x) = sin(x)\n",
      "\n",
      "**2. Recall the product rule:**\n",
      "\n",
      "The product rule states that the derivative of a product of two functions is:\n",
      "d/dx [u(x)v(x)] = u'(x)v(x) + u(x)v'(x)\n",
      "\n",
      "**3. Calculate the derivatives of u(x) and v(x):**\n",
      "\n",
      "* u'(x) = d/dx (3x²) = 6x\n",
      "* v'(x) = d/dx (sin(x)) = cos(x)\n",
      "\n",
      "**4. Apply the product rule:**\n",
      "\n",
      "f'(x) = u'(x)v(x) + u(x)v'(x)\n",
      "f'(x) = (6x)sin(x) + (3x²)(cos(x))\n",
      "\n",
      "**5. Simplify the result:**\n",
      "\n",
      "f'(x) = 6x sin(x) + 3x² cos(x)\n",
      "\n",
      "\n",
      "**Therefore, the derivative of f(x) = 3x² sin(x) is f'(x) = 6x sin(x) + 3x² cos(x).** \n",
      "<end_of_turn>\n"
     ]
    }
   ],
   "source": [
    "print(base_tokenizer.decode(base_model.generate(prompt, max_new_tokens=1000)[0]))"
   ]
  },
  {
   "cell_type": "markdown",
   "metadata": {},
   "source": [
    "# Checking output of Finetuned Model"
   ]
  },
  {
   "cell_type": "code",
   "execution_count": 15,
   "metadata": {},
   "outputs": [],
   "source": [
    "tokenizer = AutoTokenizer.from_pretrained(\"gsayak/gemma2-2b-reflection\")"
   ]
  },
  {
   "cell_type": "code",
   "execution_count": 16,
   "metadata": {},
   "outputs": [
    {
     "data": {
      "text/plain": [
       "Embedding(256006, 2304, padding_idx=0)"
      ]
     },
     "execution_count": 16,
     "metadata": {},
     "output_type": "execute_result"
    }
   ],
   "source": [
    "base_model.resize_token_embeddings(len(tokenizer))"
   ]
  },
  {
   "cell_type": "code",
   "execution_count": 17,
   "metadata": {},
   "outputs": [],
   "source": [
    "model = PeftModel.from_pretrained(base_model, \"gsayak/gemma2-2b-reflection\").to(\"cuda\")"
   ]
  },
  {
   "cell_type": "code",
   "execution_count": 18,
   "metadata": {},
   "outputs": [
    {
     "name": "stdout",
     "output_type": "stream",
     "text": [
      "tensor([[     2,    106,   1645,    108,  51654,    573,  33635,    576,    573,\n",
      "           1411,    517, 235278, 235297, 235275,    589, 235248, 235304, 235297,\n",
      "         235393, 235284,   3270, 235278, 235297, 235275,   2177,    573,   3225,\n",
      "           6933,    578,   9488,   6933,    107,    108,    106,   2516,    108]],\n",
      "       device='cuda:0')\n"
     ]
    }
   ],
   "source": [
    "prompt =tokenizer.apply_chat_template(question, tokenize=True, add_generation_prompt=True, return_tensors=\"pt\").to(\"cuda\")\n",
    "print(prompt)"
   ]
  },
  {
   "cell_type": "code",
   "execution_count": 19,
   "metadata": {},
   "outputs": [
    {
     "name": "stdout",
     "output_type": "stream",
     "text": [
      "<bos><start_of_turn>user\n",
      "Calculate the derivative of the function f(x) = 3x^2 sin(x) using the product rule and chain rule<end_of_turn>\n",
      "<start_of_turn>model\n",
      "<thinking_start>\n",
      "To find the derivative of the function f(x) = 3x^2 sin(x), we will use the product rule and chain rule. The product rule states that if we have a function of the form f(x) = u(x)v(x), then the derivative f'(x) = u'(x)v(x) + u(x)v'(x). In this case, we have u(x) = 3x^2 and v(x) = sin(x).\n",
      "\n",
      "First, we will find the derivatives of u(x) and v(x): u'(x) = 6x and v'(x) = cos(x).\n",
      "\n",
      "Next, we will apply the product rule to find the derivative of f(x): f'(x) = u'(x)v(x) + u(x)v'(x) = 6x sin(x) + 3x^2 cos(x).\n",
      "\n",
      "Now, we will use the chain rule to find the derivative of the composite function f(x) = 3x^2 sin(x). The chain rule states that if we have a function of the form f(x) = g(h(x)), then the derivative f'(x) = g'(h(x))h'(x). In this case, we have g(x) = 3x^2 and h(x) = sin(x).\n",
      "\n",
      "The derivative of g(x) is g'(x) = 6x, and the derivative of h(x) is h'(x) = cos(x).\n",
      "\n",
      "Therefore, the derivative of f(x) = 3x^2 sin(x) is f'(x) = 6x sin(x) + 3x^2 cos(x) = 6x sin(x) + 3x^2 cos(x).\n",
      "<thinking_ends>\n",
      "<reflection_start>\n",
      "Upon reviewing our work, we notice that we have correctly applied the product rule and chain rule to find the derivative of the function f(x) = 3x^2 sin(x). However, we should also check for any potential errors or oversights.\n",
      "\n",
      "One potential issue is that we may have forgotten to include the constant multiple 3 in the derivative. However, since the constant multiple is not a function of x, it does not affect the derivative. Therefore, our answer is correct.\n",
      "\n",
      "Another potential issue is that we may have incorrectly applied the product rule or chain rule. However, after reviewing our work, we are confident that our application of these rules is correct.\n",
      "\n",
      "Therefore, we are confident in our answer and conclude that the derivative of the function f(x) = 3x^2 sin(x) is f'(x) = 6x sin(x) + 3x^2 cos(x).\n",
      "<reflection_end>\n",
      "<output_start>\n",
      "The derivative of the function f(x) = 3x^2 sin(x) is f'(x) = 6x sin(x) + 3x^2 cos(x).\n",
      "\n",
      "Related concepts: product rule, chain rule, trigonometric functions.\n",
      "<output_end>\n",
      "<end_of_turn>\n"
     ]
    }
   ],
   "source": [
    "print(tokenizer.decode(model.generate(prompt, max_new_tokens=1000)[0]))"
   ]
  }
 ],
 "metadata": {
  "kernelspec": {
   "display_name": "Python 3",
   "language": "python",
   "name": "python3"
  },
  "language_info": {
   "codemirror_mode": {
    "name": "ipython",
    "version": 3
   },
   "file_extension": ".py",
   "mimetype": "text/x-python",
   "name": "python",
   "nbconvert_exporter": "python",
   "pygments_lexer": "ipython3",
   "version": "3.10.12"
  }
 },
 "nbformat": 4,
 "nbformat_minor": 2
}
